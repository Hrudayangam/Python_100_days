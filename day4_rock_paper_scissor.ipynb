{
  "nbformat": 4,
  "nbformat_minor": 0,
  "metadata": {
    "colab": {
      "name": "day4_rock_paper_scissor",
      "provenance": [],
      "collapsed_sections": [],
      "authorship_tag": "ABX9TyMgt4aa+1HdMZmhJaOqG4TN",
      "include_colab_link": true
    },
    "kernelspec": {
      "name": "python3",
      "display_name": "Python 3"
    },
    "language_info": {
      "name": "python"
    }
  },
  "cells": [
    {
      "cell_type": "markdown",
      "metadata": {
        "id": "view-in-github",
        "colab_type": "text"
      },
      "source": [
        "<a href=\"https://colab.research.google.com/github/Hrudayangam/Python_100_days/blob/main/day4_rock_paper_scissor.ipynb\" target=\"_parent\"><img src=\"https://colab.research.google.com/assets/colab-badge.svg\" alt=\"Open In Colab\"/></a>"
      ]
    },
    {
      "cell_type": "code",
      "metadata": {
        "id": "eC02OBrP6Ewx"
      },
      "source": [
        "import random"
      ],
      "execution_count": null,
      "outputs": []
    },
    {
      "cell_type": "code",
      "metadata": {
        "colab": {
          "base_uri": "https://localhost:8080/"
        },
        "id": "UFBsiAmx6gXZ",
        "outputId": "8e077b4e-fe51-4677-bd88-de10a18cdf86"
      },
      "source": [
        "a=random.randint(1,100)\n",
        "print(a)"
      ],
      "execution_count": null,
      "outputs": [
        {
          "output_type": "stream",
          "text": [
            "39\n"
          ],
          "name": "stdout"
        }
      ]
    },
    {
      "cell_type": "code",
      "metadata": {
        "id": "ZsvXYVn-6lEa",
        "colab": {
          "base_uri": "https://localhost:8080/"
        },
        "outputId": "2697942c-4cbc-4299-d3ea-415348a780d9"
      },
      "source": [
        "import random\n",
        "x = int(input(\" chose 0 1 2 for rock paper scissor: \"))\n",
        "\n",
        "y= random.randint(0,2)\n",
        "print (y)\n",
        "\n",
        "print (\"\"\"\n",
        "0 - rock\n",
        "1 - paper \n",
        "2 - scissor \n",
        "\"\"\")\n",
        "if x == 0 and y == 1:\n",
        "  print(\" you lose\")\n",
        "elif x == 0 and y == 2:   \n",
        "  print ( \"x wins\")\n",
        "elif x == 0 and y == 0:   \n",
        "  print ( \"draw\")\n",
        "\n",
        "elif x ==1 and y == 0:   \n",
        "  print ( \"x wins\")\n",
        "elif x == 1 and y == 1:   \n",
        "  print ( \"draw\")\n",
        "elif x == 1 and y == 2:   \n",
        "  print ( \"y wins\")\n",
        "\n",
        "elif x ==2 and y == 0:   \n",
        "  print ( \"y wins\")\n",
        "elif x == 2 and y == 1:   \n",
        "  print ( \"x wins\")\n",
        "elif x == 2 and y == 2:   \n",
        "  print ( \"draw\")\n"
      ],
      "execution_count": null,
      "outputs": [
        {
          "output_type": "stream",
          "text": [
            " chose 0 1 2 for rock paper scissor0\n",
            "0\n",
            "\n",
            "0 - rock\n",
            "1 - paper \n",
            "2 - scissor \n",
            "\n",
            "draw\n"
          ],
          "name": "stdout"
        }
      ]
    },
    {
      "cell_type": "code",
      "metadata": {
        "id": "GIQ3nvT-dCSk"
      },
      "source": [
        ""
      ],
      "execution_count": null,
      "outputs": []
    }
  ]
}