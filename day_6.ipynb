{
  "nbformat": 4,
  "nbformat_minor": 0,
  "metadata": {
    "colab": {
      "name": "day_6.ipynb",
      "provenance": [],
      "authorship_tag": "ABX9TyPm3dm4kC2zzRsyVFErN6rS",
      "include_colab_link": true
    },
    "kernelspec": {
      "name": "python3",
      "display_name": "Python 3"
    },
    "language_info": {
      "name": "python"
    }
  },
  "cells": [
    {
      "cell_type": "markdown",
      "metadata": {
        "id": "view-in-github",
        "colab_type": "text"
      },
      "source": [
        "<a href=\"https://colab.research.google.com/github/Hrudayangam/Python_100_days/blob/main/day_6.ipynb\" target=\"_parent\"><img src=\"https://colab.research.google.com/assets/colab-badge.svg\" alt=\"Open In Colab\"/></a>"
      ]
    },
    {
      "cell_type": "code",
      "metadata": {
        "colab": {
          "base_uri": "https://localhost:8080/"
        },
        "id": "bjlqdtQSDCuY",
        "outputId": "642ffd3d-afd1-42be-e0c1-4e86ea74a2f8"
      },
      "source": [
        "#defining basic funtion and reeborg code\n",
        "\n",
        "def my_fun():\n",
        "  print( \"this is a function\")\n",
        "\n",
        "my_fun()\n",
        "\n",
        "#google reeborg python bot to check on while loop and function"
      ],
      "execution_count": 1,
      "outputs": [
        {
          "output_type": "stream",
          "text": [
            "this is a function\n"
          ],
          "name": "stdout"
        }
      ]
    }
  ]
}